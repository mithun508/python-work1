{
 "cells": [
  {
   "cell_type": "code",
   "execution_count": 13,
   "id": "42e03525-7a69-42d7-a474-cec25eca2cd5",
   "metadata": {},
   "outputs": [
    {
     "name": "stdout",
     "output_type": "stream",
     "text": [
      "hello\n"
     ]
    }
   ],
   "source": [
    "k=\"hello world\"\n",
    "print (k[0:5])"
   ]
  },
  {
   "cell_type": "code",
   "execution_count": 19,
   "id": "b9bedc7a-dcd0-4636-b440-6b301429ed6d",
   "metadata": {},
   "outputs": [
    {
     "name": "stdout",
     "output_type": "stream",
     "text": [
      "rl\n"
     ]
    }
   ],
   "source": [
    "k=\"hello world\"\n",
    "print (k[-3:-1])"
   ]
  },
  {
   "cell_type": "code",
   "execution_count": null,
   "id": "76ac2633-cf10-4fe5-8801-ba7ebc933054",
   "metadata": {},
   "outputs": [],
   "source": []
  }
 ],
 "metadata": {
  "kernelspec": {
   "display_name": "Python [conda env:base] *",
   "language": "python",
   "name": "conda-base-py"
  },
  "language_info": {
   "codemirror_mode": {
    "name": "ipython",
    "version": 3
   },
   "file_extension": ".py",
   "mimetype": "text/x-python",
   "name": "python",
   "nbconvert_exporter": "python",
   "pygments_lexer": "ipython3",
   "version": "3.12.7"
  }
 },
 "nbformat": 4,
 "nbformat_minor": 5
}
