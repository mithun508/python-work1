{
 "cells": [
  {
   "cell_type": "code",
   "execution_count": 1,
   "id": "570fab77-343a-4148-ade7-f10657254706",
   "metadata": {},
   "outputs": [
    {
     "name": "stdout",
     "output_type": "stream",
     "text": [
      "hi hello every one\n",
      "    welcome\n"
     ]
    }
   ],
   "source": [
    "k='''hi hello every one\n",
    "    welcome'''\n",
    "print(k)"
   ]
  },
  {
   "cell_type": "code",
   "execution_count": 11,
   "id": "c274320b-9b9e-447c-9c81-14acfdd194ad",
   "metadata": {},
   "outputs": [
    {
     "name": "stdout",
     "output_type": "stream",
     "text": [
      "18\n"
     ]
    }
   ],
   "source": [
    "k=\"hi hello every one\"\n",
    "print(len(k)) \n"
   ]
  },
  {
   "cell_type": "code",
   "execution_count": 5,
   "id": "3ce5b550-b7a8-47d6-aa80-cc5bb5b4169b",
   "metadata": {},
   "outputs": [
    {
     "name": "stdout",
     "output_type": "stream",
     "text": [
      "HI HELLO EVERY ONE\n"
     ]
    }
   ],
   "source": [
    "k=\"hi hello every one\"\n",
    "print(k.upper()) "
   ]
  },
  {
   "cell_type": "code",
   "execution_count": 7,
   "id": "2d704eed-3edb-4fd2-96c6-1cbed5a37eb5",
   "metadata": {},
   "outputs": [
    {
     "name": "stdout",
     "output_type": "stream",
     "text": [
      "hi hello every one\n"
     ]
    }
   ],
   "source": [
    "k=\"hi hello every one\"\n",
    "print(k.lower()) "
   ]
  },
  {
   "cell_type": "code",
   "execution_count": 9,
   "id": "d65fc930-510b-4546-a63c-315408e7a141",
   "metadata": {},
   "outputs": [
    {
     "name": "stdout",
     "output_type": "stream",
     "text": [
      "Hi hello every one\n"
     ]
    }
   ],
   "source": [
    "k=\"hi hello every one\"\n",
    "print(k.capitalize()) "
   ]
  },
  {
   "cell_type": "code",
   "execution_count": 15,
   "id": "08d436e9-0b66-4651-89af-9823e2fcb39b",
   "metadata": {},
   "outputs": [
    {
     "name": "stdout",
     "output_type": "stream",
     "text": [
      "['h', 'llo,world']\n"
     ]
    }
   ],
   "source": [
    "a=\"hello,world\"\n",
    "print(a.split(\"e\"))"
   ]
  },
  {
   "cell_type": "code",
   "execution_count": 29,
   "id": "349e180c-be63-4e84-bcb8-593d06464742",
   "metadata": {},
   "outputs": [
    {
     "name": "stdout",
     "output_type": "stream",
     "text": [
      "hello, world\n"
     ]
    }
   ],
   "source": [
    "a=\"hello, world\"\n",
    "print(a.strip(\"e\"))"
   ]
  },
  {
   "cell_type": "code",
   "execution_count": 35,
   "id": "78ecb612-1b41-4f80-bab4-bfe4a385b975",
   "metadata": {},
   "outputs": [
    {
     "name": "stdout",
     "output_type": "stream",
     "text": [
      "i am mithun\n"
     ]
    }
   ],
   "source": [
    "a=\"mithun\"\n",
    "k=f\"i am {a}\"\n",
    "print(k)"
   ]
  },
  {
   "cell_type": "code",
   "execution_count": 39,
   "id": "36c79b65-ea2e-447e-8c18-688458f277c8",
   "metadata": {},
   "outputs": [
    {
     "name": "stdin",
     "output_type": "stream",
     "text": [
      "enter your name arun\n",
      "enter your place velachery\n"
     ]
    },
    {
     "name": "stdout",
     "output_type": "stream",
     "text": [
      "i am arun from velachery\n"
     ]
    }
   ],
   "source": [
    "a=input(\"enter your name\")\n",
    "b=input(\"enter your place\")\n",
    "k=f\"i am {a} from {b}\"\n",
    "print(k)"
   ]
  },
  {
   "cell_type": "code",
   "execution_count": null,
   "id": "ce26d093-e00a-4809-8070-eabbaf7dc31a",
   "metadata": {},
   "outputs": [],
   "source": [
    "print(true*"
   ]
  }
 ],
 "metadata": {
  "kernelspec": {
   "display_name": "Python [conda env:base] *",
   "language": "python",
   "name": "conda-base-py"
  },
  "language_info": {
   "codemirror_mode": {
    "name": "ipython",
    "version": 3
   },
   "file_extension": ".py",
   "mimetype": "text/x-python",
   "name": "python",
   "nbconvert_exporter": "python",
   "pygments_lexer": "ipython3",
   "version": "3.12.7"
  }
 },
 "nbformat": 4,
 "nbformat_minor": 5
}
