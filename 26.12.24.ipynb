{
 "cells": [
  {
   "cell_type": "code",
   "execution_count": 39,
   "id": "0c6f460a-12ea-4d6f-9767-10e5260c43ea",
   "metadata": {
    "scrolled": true
   },
   "outputs": [
    {
     "name": "stdout",
     "output_type": "stream",
     "text": [
      "even\n"
     ]
    }
   ],
   "source": [
    "a=10\n",
    "b=21\n",
    "if 'a/2=0':\n",
    "  print('even')\n",
    "elif 'b/3=1':\n",
    "  print('odd')"
   ]
  },
  {
   "cell_type": "code",
   "execution_count": 53,
   "id": "24455f36-3ff1-4b9a-96b4-f60edef4e0e1",
   "metadata": {},
   "outputs": [
    {
     "name": "stdout",
     "output_type": "stream",
     "text": [
      "grade A\n"
     ]
    }
   ],
   "source": [
    "score=87\n",
    "if score<90:\n",
    "    print('grade A')\n",
    "elif score<80:\n",
    "    print('grade B')\n",
    "elif score<70:\n",
    "    print('grade C')\n",
    "else :\n",
    "    print('grade D')\n",
    "   "
   ]
  },
  {
   "cell_type": "code",
   "execution_count": 55,
   "id": "1c5f7225-95b5-45f3-b9e1-a2fcbad05b97",
   "metadata": {},
   "outputs": [
    {
     "name": "stdout",
     "output_type": "stream",
     "text": [
      "positive\n"
     ]
    }
   ],
   "source": [
    "x=100\n",
    "if x>50:\n",
    "     print(\"positive\")\n",
    "elif x<500:\n",
    "     print(\"negative\")\n",
    "else:\n",
    "     print(\"The number is zero\")\n",
    "\n"
   ]
  },
  {
   "cell_type": "code",
   "execution_count": 57,
   "id": "1de8da62-642e-4e4f-b0e4-39a0af0489e4",
   "metadata": {},
   "outputs": [
    {
     "name": "stdout",
     "output_type": "stream",
     "text": [
      "a is smallest number\n"
     ]
    }
   ],
   "source": [
    "a=1000\n",
    "b=2000\n",
    "c=3000\n",
    "if a<b or b<c:\n",
    "  print('a is smallest number')"
   ]
  },
  {
   "cell_type": "code",
   "execution_count": 3,
   "id": "d308d8c8-5fc5-427e-ae77-6b032bae9165",
   "metadata": {},
   "outputs": [
    {
     "name": "stdout",
     "output_type": "stream",
     "text": [
      "right to vote\n"
     ]
    }
   ],
   "source": [
    "x=20\n",
    "if 18<0:\n",
    "    print('not to vote')\n",
    "elif 0==18:\n",
    "    print('can be vote')\n",
    "else:\n",
    "    print('right to vote')"
   ]
  },
  {
   "cell_type": "code",
   "execution_count": 6,
   "id": "5a61e36f-4770-4b92-b41b-61dc18da2eda",
   "metadata": {},
   "outputs": [
    {
     "ename": "SyntaxError",
     "evalue": "invalid syntax (3115687157.py, line 2)",
     "output_type": "error",
     "traceback": [
      "\u001b[1;36m  Cell \u001b[1;32mIn[6], line 2\u001b[1;36m\u001b[0m\n\u001b[1;33m    if( +):\u001b[0m\n\u001b[1;37m         ^\u001b[0m\n\u001b[1;31mSyntaxError\u001b[0m\u001b[1;31m:\u001b[0m invalid syntax\n"
     ]
    }
   ],
   "source": [
    "x=500/250\n",
    "if( +):\n",
    "    print('add')\n",
    "elif( -):\n",
    "     print('sub')\n",
    "else:\n",
    "    print('divison')\n",
    "    "
   ]
  },
  {
   "cell_type": "code",
   "execution_count": null,
   "id": "4e39fdf5-5ae8-4e42-ae4c-24f6ed497bc0",
   "metadata": {},
   "outputs": [],
   "source": []
  }
 ],
 "metadata": {
  "kernelspec": {
   "display_name": "Python [conda env:base] *",
   "language": "python",
   "name": "conda-base-py"
  },
  "language_info": {
   "codemirror_mode": {
    "name": "ipython",
    "version": 3
   },
   "file_extension": ".py",
   "mimetype": "text/x-python",
   "name": "python",
   "nbconvert_exporter": "python",
   "pygments_lexer": "ipython3",
   "version": "3.12.7"
  }
 },
 "nbformat": 4,
 "nbformat_minor": 5
}
