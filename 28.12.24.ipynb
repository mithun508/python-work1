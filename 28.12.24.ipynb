{
 "cells": [
  {
   "cell_type": "code",
   "execution_count": 7,
   "id": "8c0a4a3f-b31b-44ad-99a6-3fbcfdcc4461",
   "metadata": {},
   "outputs": [
    {
     "name": "stdout",
     "output_type": "stream",
     "text": [
      "[1, 22, 55, 6, 4, 11, 1200, 88, 1, 2, 3, 546]\n"
     ]
    }
   ],
   "source": [
    "l=[1,22,3,44,55,6,11,1200]\n",
    "l.insert(6,4)\n",
    "l.remove(44)\n",
    "l.append(88)\n",
    "l.pop(2)\n",
    "m = [1, 2, 3, 546]\n",
    "l.extend(m)\n",
    "print(l)"
   ]
  },
  {
   "cell_type": "code",
   "execution_count": 17,
   "id": "78aa125e-e22f-4528-8651-a2d64bbd41cc",
   "metadata": {},
   "outputs": [
    {
     "name": "stdout",
     "output_type": "stream",
     "text": [
      "HelloPythonWorld2024programming\n"
     ]
    }
   ],
   "source": [
    "s = \"HelloWorld\"\n",
    "s = s[:5] + \"Python\" + s[5:]\n",
    "s=s+\"2024\"\n",
    "t=\"programming\"\n",
    "s=s+t\n",
    "print(s)"
   ]
  },
  {
   "cell_type": "code",
   "execution_count": 24,
   "id": "e3074d0c-b4a0-44ef-b326-338bc8ada41b",
   "metadata": {},
   "outputs": [
    {
     "name": "stdout",
     "output_type": "stream",
     "text": [
      "true\n"
     ]
    }
   ],
   "source": [
    "def isPalindrome(s):\n",
    "    return s==s[::-1]\n",
    "    s=\"madam\"\n",
    "    ans=ispalindrome(s)\n",
    "if 'ans':\n",
    "    print(\"true\")\n",
    "else:\n",
    "    print(\"false\")\n",
    "    \n"
   ]
  },
  {
   "cell_type": "code",
   "execution_count": 54,
   "id": "fe3ab020-6560-4f3a-a0fb-c959bf24a459",
   "metadata": {},
   "outputs": [
    {
     "name": "stdout",
     "output_type": "stream",
     "text": [
      "True\n"
     ]
    }
   ],
   "source": [
    "def isanagrams(s1,s2):\n",
    "    return(sorted(s1) == sorted(s2))\n",
    "    if 'ans':\n",
    "        print(\"true\")\n",
    "    else:\n",
    "        print(\"false\")\n",
    "s1=\"listen\"\n",
    "s2=\"silent\"\n",
    "print(isanagrams(s1,s2))\n"
   ]
  },
  {
   "cell_type": "code",
   "execution_count": 64,
   "id": "5838376c-b9b5-4932-bea6-83d60b73ad23",
   "metadata": {},
   "outputs": [
    {
     "name": "stdout",
     "output_type": "stream",
     "text": [
      "Hello World\n"
     ]
    }
   ],
   "source": [
    "def capitalize_words(s):\n",
    " return s.title()\n",
    "s = \"hello world\"\n",
    "x = capitalize_words(a)\n",
    "print(x) \n"
   ]
  },
  {
   "cell_type": "code",
   "execution_count": 66,
   "id": "27583e64-7cc4-4781-9573-44408d02d2c8",
   "metadata": {},
   "outputs": [
    {
     "name": "stdout",
     "output_type": "stream",
     "text": [
      "hELLO wORLD\n"
     ]
    }
   ],
   "source": [
    "def swapcase(s):\n",
    " return s.swapcase()\n",
    "s=\"Hello World\"\n",
    "x=swapcase(s)\n",
    "print(x)"
   ]
  },
  {
   "cell_type": "code",
   "execution_count": null,
   "id": "096d8301-9bb1-44bb-b950-2b97f1aec29f",
   "metadata": {},
   "outputs": [],
   "source": []
  }
 ],
 "metadata": {
  "kernelspec": {
   "display_name": "Python [conda env:base] *",
   "language": "python",
   "name": "conda-base-py"
  },
  "language_info": {
   "codemirror_mode": {
    "name": "ipython",
    "version": 3
   },
   "file_extension": ".py",
   "mimetype": "text/x-python",
   "name": "python",
   "nbconvert_exporter": "python",
   "pygments_lexer": "ipython3",
   "version": "3.12.7"
  }
 },
 "nbformat": 4,
 "nbformat_minor": 5
}
